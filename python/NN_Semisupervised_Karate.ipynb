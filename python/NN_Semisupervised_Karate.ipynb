{
 "cells": [
  {
   "cell_type": "markdown",
   "metadata": {},
   "source": [
    "# Graph Neural Network Using Neo4J & PyTorch"
   ]
  },
  {
   "cell_type": "markdown",
   "metadata": {},
   "source": [
    "### Environment"
   ]
  },
  {
   "cell_type": "code",
   "execution_count": 85,
   "metadata": {},
   "outputs": [],
   "source": [
    "import pandas as pd\n",
    "\n",
    "import matplotlib \n",
    "import matplotlib.pyplot as plt\n",
    "\n",
    "plt.style.use('fivethirtyeight')\n",
    "pd.set_option('display.float_format', lambda x: '%.3f' % x)\n",
    "\n",
    "import pandas as pd\n",
    "import numpy as np\n",
    "from collections import Counter\n",
    "from sklearn.ensemble import RandomForestClassifier\n",
    "\n",
    "from sklearn.metrics import recall_score\n",
    "from sklearn.metrics import precision_score\n",
    "from sklearn.metrics import accuracy_score"
   ]
  },
  {
   "cell_type": "code",
   "execution_count": 86,
   "metadata": {},
   "outputs": [],
   "source": [
    "from py2neo import Graph"
   ]
  },
  {
   "cell_type": "code",
   "execution_count": 87,
   "metadata": {},
   "outputs": [],
   "source": [
    "graph = Graph(\"bolt://54.87.236.196:37389\", auth=(\"neo4j\", \"throttle-retailers-jobs\"))"
   ]
  },
  {
   "cell_type": "markdown",
   "metadata": {},
   "source": [
    "#### EDA"
   ]
  },
  {
   "cell_type": "code",
   "execution_count": 88,
   "metadata": {},
   "outputs": [
    {
     "data": {
      "text/html": [
       "<div>\n",
       "<style scoped>\n",
       "    .dataframe tbody tr th:only-of-type {\n",
       "        vertical-align: middle;\n",
       "    }\n",
       "\n",
       "    .dataframe tbody tr th {\n",
       "        vertical-align: top;\n",
       "    }\n",
       "\n",
       "    .dataframe thead th {\n",
       "        text-align: right;\n",
       "    }\n",
       "</style>\n",
       "<table border=\"1\" class=\"dataframe\">\n",
       "  <thead>\n",
       "    <tr style=\"text-align: right;\">\n",
       "      <th></th>\n",
       "      <th>numNodes</th>\n",
       "    </tr>\n",
       "  </thead>\n",
       "  <tbody>\n",
       "    <tr>\n",
       "      <th>0</th>\n",
       "      <td>34</td>\n",
       "    </tr>\n",
       "  </tbody>\n",
       "</table>\n",
       "</div>"
      ],
      "text/plain": [
       "   numNodes\n",
       "0        34"
      ]
     },
     "execution_count": 88,
     "metadata": {},
     "output_type": "execute_result"
    }
   ],
   "source": [
    "query = \"\"\"\n",
    "MATCH (p:Person) RETURN count(*) as numNodes\n",
    "\"\"\"\n",
    "graph.run(query).to_data_frame()"
   ]
  },
  {
   "cell_type": "markdown",
   "metadata": {},
   "source": [
    "## Graph Operations and Functions"
   ]
  },
  {
   "cell_type": "markdown",
   "metadata": {},
   "source": [
    "Setting labels for node 1 and 34"
   ]
  },
  {
   "cell_type": "code",
   "execution_count": 89,
   "metadata": {},
   "outputs": [
    {
     "data": {
      "text/plain": [
       "<py2neo.database.Cursor at 0x7f88fbd4d310>"
      ]
     },
     "execution_count": 89,
     "metadata": {},
     "output_type": "execute_result"
    }
   ],
   "source": [
    "query_instructor = \"\"\"\n",
    "MATCH (p:Person) WHERE p.id = 1 SET p.label = 0 \n",
    "\"\"\"\n",
    "query_president = \"\"\"\n",
    "MATCH (p:Person) WHERE p.id = 34 SET p.label = 1 \n",
    "\"\"\"\n",
    "graph.run(query_instructor)\n",
    "graph.run(query_president)"
   ]
  },
  {
   "cell_type": "markdown",
   "metadata": {},
   "source": [
    "Setting features of all the nodes using a dictionary"
   ]
  },
  {
   "cell_type": "code",
   "execution_count": 312,
   "metadata": {},
   "outputs": [],
   "source": [
    "# aux function \n",
    "def stringToIntArray(word):\n",
    "    return [int(i) for i in word]\n",
    "\n",
    "def arrayToString(array):\n",
    "    word = \"\"\n",
    "    for i in range(0, array.size):\n",
    "        word += str(array[i])\n",
    "    return word"
   ]
  },
  {
   "cell_type": "code",
   "execution_count": 316,
   "metadata": {},
   "outputs": [],
   "source": [
    "def set_features(graph, features):\n",
    "    # features = dict{key:features}\n",
    "    for key in features.keys():\n",
    "        query = \"\"\"\n",
    "        MATCH (p:Person {id: $id_node}) SET p.features = $features\n",
    "        \"\"\" \n",
    "        graph.run(query, {'id_node': key, 'features': arrayToString(features[key])})"
   ]
  },
  {
   "cell_type": "code",
   "execution_count": 314,
   "metadata": {
    "scrolled": true
   },
   "outputs": [],
   "source": [
    "dict_features = {}\n",
    "num_nodes = 34\n",
    "features = np.transpose(np.identity(num_nodes, dtype=int))\n",
    "for i in range(1, num_nodes + 1):\n",
    "    dict_features[i] = features[num_nodes-i]"
   ]
  },
  {
   "cell_type": "code",
   "execution_count": 317,
   "metadata": {},
   "outputs": [],
   "source": [
    "set_features(graph, dict_features)"
   ]
  },
  {
   "cell_type": "markdown",
   "metadata": {},
   "source": [
    "Either add self loops in the graph or take this into account when updating features of each node\n",
    "# ¡¡¡¡¡!!!!! Ajustarlo después -> eliminar los self loops del gráfico?? modificar la funcion de update_features y añadir previamente los self loops?"
   ]
  },
  {
   "cell_type": "code",
   "execution_count": 310,
   "metadata": {},
   "outputs": [],
   "source": [
    "def get_features(graph, id_node):\n",
    "    query_own_features = \"\"\"\n",
    "    MATCH (p:Person {id: $id_node}) RETURN p.features as own_features\n",
    "    \"\"\"  \n",
    "    own_features = graph.run(query_own_features, {\"id_node\": id_node}).to_data_frame().iloc[0]['own_features']\n",
    "    return own_features\n",
    "\n",
    "def get_neighbors_features(graph, id_node):\n",
    "    query_neighbors_features = \"\"\"\n",
    "    MATCH (p:Person {id: $id_node})-[:KNOWS]-(neighbor:Person)\n",
    "    RETURN collect(neighbor.features) as neighbors_features\n",
    "    \"\"\"\n",
    "    neighbor_features = graph.run(query_neighbors_features, {\"id_node\": id_node}).to_data_frame().iloc[0]['neighbors_features']\n",
    "    return neighbor_features\n",
    "\n",
    "def update_features(graph, id_node, all_features, all_neighbor_features):\n",
    "    own_features = stringToIntArray(all_features[id_node])\n",
    "    neighbors_features = list(map(stringToIntArray, all_neighbor_features[id_node]))\n",
    "    new_features = arrayToString(np.sum(neighbors_features, axis=0) + own_features)\n",
    "    query_update_features = \"\"\"\n",
    "    MATCH (p:Person {id: $id_node}) SET p.features = $new_features\n",
    "    \"\"\"\n",
    "    graph.run(query_update_features, {'id_node': id_node, 'new_features': new_features})"
   ]
  },
  {
   "cell_type": "markdown",
   "metadata": {},
   "source": [
    "Obtain features for each node and obtain features of the neighbors of each node"
   ]
  },
  {
   "cell_type": "code",
   "execution_count": 303,
   "metadata": {},
   "outputs": [],
   "source": []
  },
  {
   "cell_type": "code",
   "execution_count": 318,
   "metadata": {},
   "outputs": [],
   "source": [
    "def get_all_features(graph): \n",
    "    all_features = {}\n",
    "    all_neighbor_features = {}\n",
    "    for i in range(1, 34):\n",
    "        i_features = get_features(graph, i)\n",
    "        all_features[i] = i_features\n",
    "        neighbor_features = get_neighbors_features(graph, i)\n",
    "        all_neighbor_features[i] = neighbor_features\n",
    "    return all_features, all_neighbor_features"
   ]
  },
  {
   "cell_type": "code",
   "execution_count": 311,
   "metadata": {},
   "outputs": [
    {
     "data": {
      "text/html": [
       "<div>\n",
       "<style scoped>\n",
       "    .dataframe tbody tr th:only-of-type {\n",
       "        vertical-align: middle;\n",
       "    }\n",
       "\n",
       "    .dataframe tbody tr th {\n",
       "        vertical-align: top;\n",
       "    }\n",
       "\n",
       "    .dataframe thead th {\n",
       "        text-align: right;\n",
       "    }\n",
       "</style>\n",
       "<table border=\"1\" class=\"dataframe\">\n",
       "  <thead>\n",
       "    <tr style=\"text-align: right;\">\n",
       "      <th></th>\n",
       "      <th>own_features</th>\n",
       "    </tr>\n",
       "  </thead>\n",
       "  <tbody>\n",
       "    <tr>\n",
       "      <th>0</th>\n",
       "      <td>None</td>\n",
       "    </tr>\n",
       "  </tbody>\n",
       "</table>\n",
       "</div>"
      ],
      "text/plain": [
       "  own_features\n",
       "0         None"
      ]
     },
     "execution_count": 311,
     "metadata": {},
     "output_type": "execute_result"
    }
   ],
   "source": [
    "query_own_features = \"\"\"\n",
    "    MATCH (p:Person {id: $id_node}) RETURN p.features as own_features\n",
    "    \"\"\"  \n",
    "own_features = graph.run(query_own_features, {\"id_node\": 34}).to_data_frame()\n",
    "own_features"
   ]
  },
  {
   "cell_type": "code",
   "execution_count": 268,
   "metadata": {
    "scrolled": true
   },
   "outputs": [],
   "source": [
    "for i in range(1, 34):\n",
    "    update_features(graph, 6, all_features, all_neighbor_features)"
   ]
  },
  {
   "cell_type": "markdown",
   "metadata": {},
   "source": [
    "## Neural Network Creation"
   ]
  },
  {
   "cell_type": "code",
   "execution_count": 270,
   "metadata": {},
   "outputs": [],
   "source": [
    "import torch\n",
    "import torch.nn as nn"
   ]
  },
  {
   "cell_type": "code",
   "execution_count": 183,
   "metadata": {},
   "outputs": [
    {
     "data": {
      "text/plain": [
       "'0000000000000000000000000000010000'"
      ]
     },
     "execution_count": 183,
     "metadata": {},
     "output_type": "execute_result"
    }
   ],
   "source": [
    "class GCNLayer(nn.Module):\n",
    "    def __init__(self, input_features, output_features):\n",
    "        super(GCNLayer, self).__init__()\n",
    "        self.linear = Linear(input_features, output_features)\n",
    "    def __forward__(self, graph, input):\n",
    "        set_features(graph, input)\n",
    "        all_features, all_neighbor_features = get_all_features(graph)\n",
    "        "
   ]
  }
 ],
 "metadata": {
  "kernelspec": {
   "display_name": "Python 3",
   "language": "python",
   "name": "python3"
  },
  "language_info": {
   "codemirror_mode": {
    "name": "ipython",
    "version": 3
   },
   "file_extension": ".py",
   "mimetype": "text/x-python",
   "name": "python",
   "nbconvert_exporter": "python",
   "pygments_lexer": "ipython3",
   "version": "3.7.6"
  }
 },
 "nbformat": 4,
 "nbformat_minor": 4
}
