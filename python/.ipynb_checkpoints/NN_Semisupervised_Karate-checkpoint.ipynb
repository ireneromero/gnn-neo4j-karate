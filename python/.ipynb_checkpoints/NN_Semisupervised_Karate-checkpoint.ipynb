{
 "cells": [
  {
   "cell_type": "markdown",
   "metadata": {},
   "source": [
    "# Graph Neural Network Using Neo4J & PyTorch"
   ]
  },
  {
   "cell_type": "markdown",
   "metadata": {},
   "source": [
    "### Environment"
   ]
  },
  {
   "cell_type": "code",
   "execution_count": 146,
   "metadata": {},
   "outputs": [],
   "source": [
    "import pandas as pd\n",
    "\n",
    "import matplotlib \n",
    "import matplotlib.pyplot as plt\n",
    "\n",
    "plt.style.use('fivethirtyeight')\n",
    "pd.set_option('display.float_format', lambda x: '%.3f' % x)\n",
    "\n",
    "import pandas as pd\n",
    "import numpy as np\n",
    "from collections import Counter\n",
    "from sklearn.ensemble import RandomForestClassifier\n",
    "\n",
    "from sklearn.metrics import recall_score\n",
    "from sklearn.metrics import precision_score\n",
    "from sklearn.metrics import accuracy_score\n",
    "\n",
    "import torch\n",
    "import torch.nn as nn\n",
    "import torch.nn.functional as F"
   ]
  },
  {
   "cell_type": "code",
   "execution_count": 2,
   "metadata": {},
   "outputs": [],
   "source": [
    "from py2neo import Graph"
   ]
  },
  {
   "cell_type": "code",
   "execution_count": 15,
   "metadata": {},
   "outputs": [],
   "source": [
    "graph = Graph(\"bolt://54.87.236.196:37389\", auth=(\"neo4j\", \"throttle-retailers-jobs\"))"
   ]
  },
  {
   "cell_type": "markdown",
   "metadata": {},
   "source": [
    "#### EDA"
   ]
  },
  {
   "cell_type": "code",
   "execution_count": 46,
   "metadata": {},
   "outputs": [
    {
     "data": {
      "text/plain": [
       "34"
      ]
     },
     "execution_count": 46,
     "metadata": {},
     "output_type": "execute_result"
    }
   ],
   "source": [
    "query = \"\"\"\n",
    "MATCH (p:Person) RETURN count(*) as numNodes\n",
    "\"\"\"\n",
    "numNodes = graph.run(query).to_data_frame().iloc[0]['numNodes']\n",
    "numNodes"
   ]
  },
  {
   "cell_type": "code",
   "execution_count": 6,
   "metadata": {},
   "outputs": [
    {
     "data": {
      "text/html": [
       "<div>\n",
       "<style scoped>\n",
       "    .dataframe tbody tr th:only-of-type {\n",
       "        vertical-align: middle;\n",
       "    }\n",
       "\n",
       "    .dataframe tbody tr th {\n",
       "        vertical-align: top;\n",
       "    }\n",
       "\n",
       "    .dataframe thead th {\n",
       "        text-align: right;\n",
       "    }\n",
       "</style>\n",
       "<table border=\"1\" class=\"dataframe\">\n",
       "  <thead>\n",
       "    <tr style=\"text-align: right;\">\n",
       "      <th></th>\n",
       "    </tr>\n",
       "  </thead>\n",
       "  <tbody>\n",
       "  </tbody>\n",
       "</table>\n",
       "</div>"
      ],
      "text/plain": [
       "Empty DataFrame\n",
       "Columns: []\n",
       "Index: []"
      ]
     },
     "execution_count": 6,
     "metadata": {},
     "output_type": "execute_result"
    }
   ],
   "source": [
    "# Check if there are self loops in the graph\n",
    "query = \"\"\"\n",
    "MATCH (p:Person)-[]-(p)\n",
    "RETURN p.id\n",
    "\"\"\"\n",
    "graph.run(query).to_data_frame()"
   ]
  },
  {
   "cell_type": "code",
   "execution_count": 10,
   "metadata": {
    "scrolled": true
   },
   "outputs": [
    {
     "data": {
      "text/plain": [
       "[1,\n",
       " 2,\n",
       " 3,\n",
       " 4,\n",
       " 5,\n",
       " 6,\n",
       " 7,\n",
       " 8,\n",
       " 9,\n",
       " 10,\n",
       " 11,\n",
       " 12,\n",
       " 13,\n",
       " 14,\n",
       " 15,\n",
       " 16,\n",
       " 17,\n",
       " 18,\n",
       " 19,\n",
       " 20,\n",
       " 21,\n",
       " 22,\n",
       " 23,\n",
       " 24,\n",
       " 25,\n",
       " 26,\n",
       " 27,\n",
       " 28,\n",
       " 29,\n",
       " 30,\n",
       " 31,\n",
       " 32,\n",
       " 33,\n",
       " 34]"
      ]
     },
     "execution_count": 10,
     "metadata": {},
     "output_type": "execute_result"
    }
   ],
   "source": [
    "# Find all ids of the nodes in the grapf\n",
    "query = \"\"\"\n",
    "MATCH (p:Person)\n",
    "RETURN collect(p.id) as allIds\n",
    "\"\"\"\n",
    "graph.run(query).to_data_frame().iloc[0]['allIds']"
   ]
  },
  {
   "cell_type": "markdown",
   "metadata": {},
   "source": [
    "## Graph Operations and Functions"
   ]
  },
  {
   "cell_type": "markdown",
   "metadata": {},
   "source": [
    "Setting features of all the nodes using a dictionary"
   ]
  },
  {
   "cell_type": "code",
   "execution_count": 216,
   "metadata": {},
   "outputs": [],
   "source": [
    "# aux function \n",
    "def string_to_array(word):\n",
    "    return [float(i) for i in word]\n",
    "\n",
    "def array_to_string(array):\n",
    "    word = \"\"\n",
    "    for i in range(0, array.size):\n",
    "        word += str(array[i])\n",
    "    return word\n",
    "\n",
    "def tensor_to_string(tensor):\n",
    "    word = \"\"\n",
    "    for i in tensor.tolist():\n",
    "        word += str(i) + \",\"\n",
    "    return word[:len(word)-1]\n",
    "\n",
    "def string_to_tensor(string_input):\n",
    "    return torch.tensor(list(map(float, string_input.split(\",\"))))"
   ]
  },
  {
   "cell_type": "code",
   "execution_count": 387,
   "metadata": {},
   "outputs": [],
   "source": [
    "def set_features(graph, features):\n",
    "    for i in range(features.shape[0]):\n",
    "        query = \"\"\"\n",
    "        MATCH (p:Person {id: $id_node}) SET p.features = $features\n",
    "        \"\"\"\n",
    "        graph.run(query, {'id_node': i+1, 'features': tensor_to_string(features[i])})\n"
   ]
  },
  {
   "cell_type": "code",
   "execution_count": 389,
   "metadata": {
    "scrolled": true
   },
   "outputs": [],
   "source": [
    "features = torch.eye(34)\n",
    "set_features(graph, features)"
   ]
  },
  {
   "cell_type": "markdown",
   "metadata": {},
   "source": [
    "Either add self loops in the graph or take this into account when updating features of each node\n",
    "\n",
    "Current approach:\n",
    "- Self-loops present in the graph deleted\n",
    "- When updating features, take into account own features\n",
    "\n",
    "Future approach: \n",
    "- Add self-loops to the graph\n",
    "- When updating features, only use neighbor features"
   ]
  },
  {
   "cell_type": "code",
   "execution_count": 435,
   "metadata": {},
   "outputs": [],
   "source": [
    "def get_features(graph, id_node):\n",
    "    query_own_features = \"\"\"\n",
    "    MATCH (p:Person {id: $id_node}) RETURN p.features as own_features\n",
    "    \"\"\"  \n",
    "    own_features = graph.run(query_own_features, {\"id_node\": id_node}).to_data_frame().iloc[0]['own_features']\n",
    "    return own_features\n",
    "\n",
    "def get_features_tensor(graph, id_node):\n",
    "    return string_to_tensor(get_features(graph, id_node))\n",
    "\n",
    "def get_neighbors_features(graph, id_node):\n",
    "    query_neighbors_features = \"\"\"\n",
    "    MATCH (p:Person {id: $id_node})-[:KNOWS]-(neighbor:Person)\n",
    "    RETURN collect(neighbor.features) as neighbors_features\n",
    "    \"\"\"\n",
    "    neighbor_features = graph.run(query_neighbors_features, {\"id_node\": id_node}).to_data_frame().iloc[0]['neighbors_features']\n",
    "    return neighbor_features\n",
    "def get_neighbors_features_tensor(graph, id_node):\n",
    "    return list(map(string_to_tensor, get_neighbors_features(graph, id_node)))\n",
    "\n",
    "def get_all_features(graph): \n",
    "    all_features = []\n",
    "    all_neighbor_features = {}\n",
    "    for i in range(1, numNodes + 1):\n",
    "        i_features = get_features(graph, i)\n",
    "        all_features.append(i_features)\n",
    "        neighbor_features = get_neighbors_features(graph, i)\n",
    "        all_neighbor_features[i] = neighbor_features\n",
    "    return all_features, all_neighbor_features\n",
    "\n",
    "def update_features(graph, id_node, all_features, all_neighbor_features):\n",
    "    own_features = string_to_tensor(all_features[id_node])\n",
    "    neighbors_features = list(map(string_to_tensor, all_neighbor_features[id_node]))\n",
    "    neighbors_features_sum = torch.stack(neighbors_features, dim=0).sum(dim=0)\n",
    "    new_features = torch.stack([neighbors_features_sum, own_features], dim=0)\n",
    "    query_update_features = \"\"\"\n",
    "    MATCH (p:Person {id: $id_node}) SET p.features = $new_features\n",
    "    \"\"\"\n",
    "    graph.run(query_update_features, {'id_node': id_node, 'new_features': tensor_to_string(new_features)})\n",
    "    \n",
    "def update_all_features(graph, all_features, all_neighbor_features):\n",
    "    for i in range(1, numNodes + 1):\n",
    "        update_features(graph, i, all_features, all_neighbor_features)"
   ]
  },
  {
   "cell_type": "code",
   "execution_count": 433,
   "metadata": {},
   "outputs": [
    {
     "data": {
      "text/plain": [
       "tensor([1., 1., 1., 1., 1., 1., 1., 1., 1., 0., 1., 1., 1., 1., 0., 0., 0., 1.,\n",
       "        0., 1., 0., 1., 0., 0., 0., 0., 0., 0., 0., 0., 0., 1., 0., 0.])"
      ]
     },
     "execution_count": 433,
     "metadata": {},
     "output_type": "execute_result"
    }
   ],
   "source": [
    "get_features_tensor(graph, 1)"
   ]
  },
  {
   "cell_type": "code",
   "execution_count": 311,
   "metadata": {},
   "outputs": [
    {
     "data": {
      "text/html": [
       "<div>\n",
       "<style scoped>\n",
       "    .dataframe tbody tr th:only-of-type {\n",
       "        vertical-align: middle;\n",
       "    }\n",
       "\n",
       "    .dataframe tbody tr th {\n",
       "        vertical-align: top;\n",
       "    }\n",
       "\n",
       "    .dataframe thead th {\n",
       "        text-align: right;\n",
       "    }\n",
       "</style>\n",
       "<table border=\"1\" class=\"dataframe\">\n",
       "  <thead>\n",
       "    <tr style=\"text-align: right;\">\n",
       "      <th></th>\n",
       "      <th>own_features</th>\n",
       "    </tr>\n",
       "  </thead>\n",
       "  <tbody>\n",
       "    <tr>\n",
       "      <th>0</th>\n",
       "      <td>None</td>\n",
       "    </tr>\n",
       "  </tbody>\n",
       "</table>\n",
       "</div>"
      ],
      "text/plain": [
       "  own_features\n",
       "0         None"
      ]
     },
     "execution_count": 311,
     "metadata": {},
     "output_type": "execute_result"
    }
   ],
   "source": [
    "query_own_features = \"\"\"\n",
    "    MATCH (p:Person {id: $id_node}) RETURN p.features as own_features\n",
    "    \"\"\"  \n",
    "own_features = graph.run(query_own_features, {\"id_node\": 34}).to_data_frame()\n",
    "own_features"
   ]
  },
  {
   "cell_type": "markdown",
   "metadata": {},
   "source": [
    "## Neural Network Creation"
   ]
  },
  {
   "cell_type": "code",
   "execution_count": 122,
   "metadata": {},
   "outputs": [],
   "source": [
    "import torch\n",
    "import torch.nn as nn\n",
    "import torch.nn.functional as F"
   ]
  },
  {
   "cell_type": "code",
   "execution_count": 410,
   "metadata": {},
   "outputs": [],
   "source": [
    "class GCNLayer(nn.Module):\n",
    "    def __init__(self, input_size, output_size):\n",
    "        super(GCNLayer, self).__init__()\n",
    "        self.linear = nn.Linear(input_size, output_size)\n",
    "    def forward(self, graph, input_features):\n",
    "        set_features(graph, torch.stack(list(map(string_to_tensor,list(input_features.values()))), dim=0))\n",
    "        all_features, all_neighbor_features = get_all_features(graph)\n",
    "        update_all_features(graph, all_features, all_neighbor_features)\n",
    "        all_features_updated, _ = get_all_features(graph)\n",
    "        # Transform into torch format\n",
    "        all_features_tensor = torch.stack(list(map(string_to_tensor, all_features_updated.values())), dim=0)\n",
    "        return self.linear(all_features_tensor)\n"
   ]
  },
  {
   "cell_type": "code",
   "execution_count": 425,
   "metadata": {},
   "outputs": [],
   "source": [
    "class GCN(nn.Module):\n",
    "    def __init__(self, input_size, hidden_size, output_size):\n",
    "        super(GCN, self).__init__()\n",
    "        self.gcnlayer1 = GCNLayer(input_size, hidden_size)\n",
    "        self.gcnlayer2 = GCNLayer(hidden_size, output_size)\n",
    "    \n",
    "    def forward(self, graph, input_features):\n",
    "        outputlayer1 = self.gcnlayer1(graph, input_features)\n",
    "        outputlayer1_relu = F.relu(outputlayer1)\n",
    "        input_next_layer = {}\n",
    "        for i in range(numNodes):\n",
    "            input_next_layer[i+1] = outputlayer1_relu[i]\n",
    "        outputlayer2 = self.gcnlayer2(graph, outputlayer1_relu)\n",
    "        return outputlayer2"
   ]
  },
  {
   "cell_type": "code",
   "execution_count": 411,
   "metadata": {},
   "outputs": [
    {
     "data": {
      "text/plain": [
       "GCNLayer(\n",
       "  (linear): Linear(in_features=34, out_features=5, bias=True)\n",
       ")"
      ]
     },
     "execution_count": 411,
     "metadata": {},
     "output_type": "execute_result"
    }
   ],
   "source": [
    "layer1 = GCNLayer(34, 5)\n",
    "layer1"
   ]
  },
  {
   "cell_type": "code",
   "execution_count": 413,
   "metadata": {},
   "outputs": [],
   "source": [
    "out1 = layer1(graph, all_features)"
   ]
  },
  {
   "cell_type": "code",
   "execution_count": 427,
   "metadata": {},
   "outputs": [],
   "source": [
    "input_next_layer = {}\n",
    "for i in range(numNodes):\n",
    "    input_next_layer[i+1] = out1[i]"
   ]
  },
  {
   "cell_type": "code",
   "execution_count": 428,
   "metadata": {},
   "outputs": [
    {
     "data": {
      "text/plain": [
       "{1: tensor([ 0.5688,  0.3806, -0.7450,  0.3941,  0.3794], grad_fn=<SelectBackward>),\n",
       " 2: tensor([ 0.1034, -0.3567, -0.5000,  0.1800,  0.1980], grad_fn=<SelectBackward>),\n",
       " 3: tensor([ 0.3599,  0.0732, -0.7398,  0.5219,  0.6678], grad_fn=<SelectBackward>),\n",
       " 4: tensor([ 0.0635,  0.0198, -0.4088,  0.3009,  0.2246], grad_fn=<SelectBackward>),\n",
       " 5: tensor([ 0.3006,  0.2933, -0.1029, -0.0574,  0.2077], grad_fn=<SelectBackward>),\n",
       " 6: tensor([ 0.3243,  0.3725, -0.0043, -0.3148,  0.0552], grad_fn=<SelectBackward>),\n",
       " 7: tensor([ 0.2925,  0.4382, -0.0341, -0.3293, -0.0075], grad_fn=<SelectBackward>),\n",
       " 8: tensor([ 0.0410, -0.2000, -0.4015,  0.2048,  0.2526], grad_fn=<SelectBackward>),\n",
       " 9: tensor([ 0.3292, -0.4898, -0.2874,  0.1172,  0.1901], grad_fn=<SelectBackward>),\n",
       " 10: tensor([ 0.2256, -0.3907, -0.0774,  0.2988,  0.3176], grad_fn=<SelectBackward>),\n",
       " 11: tensor([ 0.1648,  0.3039, -0.2342, -0.0197,  0.0704], grad_fn=<SelectBackward>),\n",
       " 12: tensor([ 0.0218, -0.0610, -0.0105, -0.1135, -0.0062], grad_fn=<SelectBackward>),\n",
       " 13: tensor([ 0.0177, -0.1381, -0.3364, -0.1295,  0.1058], grad_fn=<SelectBackward>),\n",
       " 14: tensor([ 0.1599, -0.2618, -0.0681,  0.2380,  0.2449], grad_fn=<SelectBackward>),\n",
       " 15: tensor([-0.0316, -0.3445,  0.1220,  0.3089,  0.2265], grad_fn=<SelectBackward>),\n",
       " 16: tensor([ 0.0803, -0.2658,  0.0966,  0.1727,  0.3984], grad_fn=<SelectBackward>),\n",
       " 17: tensor([ 0.0936,  0.3050,  0.1230, -0.2482, -0.0270], grad_fn=<SelectBackward>),\n",
       " 18: tensor([ 0.0261, -0.2655, -0.3352, -0.0102,  0.2210], grad_fn=<SelectBackward>),\n",
       " 19: tensor([-0.0023, -0.3342, -0.1225,  0.3586,  0.2682], grad_fn=<SelectBackward>),\n",
       " 20: tensor([ 0.1886, -0.1444, -0.0598, -0.0266,  0.0554], grad_fn=<SelectBackward>),\n",
       " 21: tensor([ 0.2251, -0.3608,  0.1118,  0.2099,  0.2287], grad_fn=<SelectBackward>),\n",
       " 22: tensor([ 0.1945, -0.1655, -0.2308,  0.0414,  0.1638], grad_fn=<SelectBackward>),\n",
       " 23: tensor([ 0.0730, -0.1300, -0.0301,  0.2944,  0.4048], grad_fn=<SelectBackward>),\n",
       " 24: tensor([ 0.3646, -0.1192, -0.2312,  0.3525,  0.2190], grad_fn=<SelectBackward>),\n",
       " 25: tensor([ 0.1037, -0.1129, -0.1074,  0.2168, -0.0783], grad_fn=<SelectBackward>),\n",
       " 26: tensor([ 0.0250, -0.3190,  0.0239,  0.3333, -0.2865], grad_fn=<SelectBackward>),\n",
       " 27: tensor([ 0.1170, -0.1509,  0.0914,  0.0735,  0.0244], grad_fn=<SelectBackward>),\n",
       " 28: tensor([ 0.1713, -0.3632,  0.1430,  0.5970,  0.0257], grad_fn=<SelectBackward>),\n",
       " 29: tensor([ 0.0714, -0.2871, -0.0109,  0.4487,  0.1801], grad_fn=<SelectBackward>),\n",
       " 30: tensor([ 0.2181, -0.2129,  0.0054,  0.2746, -0.0132], grad_fn=<SelectBackward>),\n",
       " 31: tensor([ 0.1546, -0.3733, -0.3284,  0.1900,  0.2977], grad_fn=<SelectBackward>),\n",
       " 32: tensor([ 0.2580, -0.3030, -0.0842,  0.3240,  0.1878], grad_fn=<SelectBackward>),\n",
       " 33: tensor([ 0.0858, -1.1295,  0.0325,  0.7321,  0.2853], grad_fn=<SelectBackward>),\n",
       " 34: tensor([ 0.1922, -0.5826,  0.0312,  0.6414,  0.2444], grad_fn=<SelectBackward>)}"
      ]
     },
     "execution_count": 428,
     "metadata": {},
     "output_type": "execute_result"
    }
   ],
   "source": [
    "input_next_layer"
   ]
  },
  {
   "cell_type": "code",
   "execution_count": 376,
   "metadata": {},
   "outputs": [
    {
     "data": {
      "text/plain": [
       "<py2neo.database.Cursor at 0x7fb6b23c8850>"
      ]
     },
     "execution_count": 376,
     "metadata": {},
     "output_type": "execute_result"
    }
   ],
   "source": [
    "query = \"\"\"\n",
    "MATCH (p:Person {id: 1}) SET p.features = $features\n",
    "\"\"\"\n",
    "graph.run(query, {'features': tensor_to_string(tes2_linear[0])})"
   ]
  },
  {
   "cell_type": "markdown",
   "metadata": {},
   "source": [
    "### Training"
   ]
  },
  {
   "cell_type": "markdown",
   "metadata": {},
   "source": [
    "Setting labels por node 1 and 34 (semisupervised problem)"
   ]
  },
  {
   "cell_type": "code",
   "execution_count": 118,
   "metadata": {},
   "outputs": [
    {
     "data": {
      "text/plain": [
       "<py2neo.database.Cursor at 0x7fb6b3719890>"
      ]
     },
     "execution_count": 118,
     "metadata": {},
     "output_type": "execute_result"
    }
   ],
   "source": [
    "query_instructor = \"\"\"\n",
    "MATCH (p:Person) WHERE p.id = 1 SET p.label = 0 \n",
    "\"\"\"\n",
    "query_president = \"\"\"\n",
    "MATCH (p:Person) WHERE p.id = 34 SET p.label = 1 \n",
    "\"\"\"\n",
    "graph.run(query_instructor)\n",
    "graph.run(query_president)"
   ]
  },
  {
   "cell_type": "code",
   "execution_count": 119,
   "metadata": {},
   "outputs": [],
   "source": [
    "# Optimizer: Adam\n",
    "optimizer = torch.optim.Adam(net.parameters(), lr = 0.01)"
   ]
  },
  {
   "cell_type": "code",
   "execution_count": null,
   "metadata": {},
   "outputs": [],
   "source": [
    "all_logits = []\n",
    "num_epochs = 30\n",
    "for epoch in range(num_epochs):\n",
    "    logits = net(G, inputs)"
   ]
  }
 ],
 "metadata": {
  "kernelspec": {
   "display_name": "Python 3",
   "language": "python",
   "name": "python3"
  },
  "language_info": {
   "codemirror_mode": {
    "name": "ipython",
    "version": 3
   },
   "file_extension": ".py",
   "mimetype": "text/x-python",
   "name": "python",
   "nbconvert_exporter": "python",
   "pygments_lexer": "ipython3",
   "version": "3.7.6"
  }
 },
 "nbformat": 4,
 "nbformat_minor": 4
}
