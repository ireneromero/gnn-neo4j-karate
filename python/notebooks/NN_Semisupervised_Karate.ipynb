{
 "cells": [
  {
   "cell_type": "markdown",
   "metadata": {},
   "source": [
    "# Graph Neural Network Using Neo4J & PyTorch"
   ]
  },
  {
   "cell_type": "markdown",
   "metadata": {},
   "source": [
    "Implementation of a classifier using karate data. Graph is stored in Neo4J and the graph neural network is implemented using PyTorch"
   ]
  },
  {
   "cell_type": "markdown",
   "metadata": {},
   "source": [
    "### Environment"
   ]
  },
  {
   "cell_type": "code",
   "execution_count": 1,
   "metadata": {},
   "outputs": [],
   "source": [
    "import pandas as pd\n",
    "\n",
    "import matplotlib \n",
    "import matplotlib.pyplot as plt\n",
    "\n",
    "plt.style.use('fivethirtyeight')\n",
    "pd.set_option('display.float_format', lambda x: '%.3f' % x)\n",
    "\n",
    "import pandas as pd\n",
    "import numpy as np\n",
    "from collections import Counter\n",
    "from sklearn.ensemble import RandomForestClassifier\n",
    "\n",
    "from sklearn.metrics import recall_score\n",
    "from sklearn.metrics import precision_score\n",
    "from sklearn.metrics import accuracy_score\n",
    "\n",
    "import torch\n",
    "import torch.nn as nn\n",
    "import torch.nn.functional as F"
   ]
  },
  {
   "cell_type": "code",
   "execution_count": 2,
   "metadata": {},
   "outputs": [],
   "source": [
    "from py2neo import Graph"
   ]
  },
  {
   "cell_type": "code",
   "execution_count": null,
   "metadata": {},
   "outputs": [],
   "source": [
    "# Change ip, port and pwd values\n",
    "graph = Graph(\"bolt://54.87.236.196:37389\", auth=(\"neo4j\", \"hello-password\"))"
   ]
  },
  {
   "cell_type": "markdown",
   "metadata": {},
   "source": [
    "#### EDA"
   ]
  },
  {
   "cell_type": "code",
   "execution_count": 93,
   "metadata": {},
   "outputs": [
    {
     "data": {
      "text/plain": [
       "34"
      ]
     },
     "execution_count": 93,
     "metadata": {},
     "output_type": "execute_result"
    }
   ],
   "source": [
    "# How many nodes are in the graph\n",
    "query = \"\"\"\n",
    "MATCH (p:Person) RETURN count(*) as numNodes\n",
    "\"\"\"\n",
    "numNodes = graph.run(query).to_data_frame().iloc[0]['numNodes']\n",
    "numNodes"
   ]
  },
  {
   "cell_type": "code",
   "execution_count": 6,
   "metadata": {},
   "outputs": [
    {
     "data": {
      "text/html": [
       "<div>\n",
       "<style scoped>\n",
       "    .dataframe tbody tr th:only-of-type {\n",
       "        vertical-align: middle;\n",
       "    }\n",
       "\n",
       "    .dataframe tbody tr th {\n",
       "        vertical-align: top;\n",
       "    }\n",
       "\n",
       "    .dataframe thead th {\n",
       "        text-align: right;\n",
       "    }\n",
       "</style>\n",
       "<table border=\"1\" class=\"dataframe\">\n",
       "  <thead>\n",
       "    <tr style=\"text-align: right;\">\n",
       "      <th></th>\n",
       "    </tr>\n",
       "  </thead>\n",
       "  <tbody>\n",
       "  </tbody>\n",
       "</table>\n",
       "</div>"
      ],
      "text/plain": [
       "Empty DataFrame\n",
       "Columns: []\n",
       "Index: []"
      ]
     },
     "execution_count": 6,
     "metadata": {},
     "output_type": "execute_result"
    }
   ],
   "source": [
    "# Check if there are self loops in the graph\n",
    "query = \"\"\"\n",
    "MATCH (p:Person)-[]-(p)\n",
    "RETURN p.id\n",
    "\"\"\"\n",
    "graph.run(query).to_data_frame()"
   ]
  },
  {
   "cell_type": "code",
   "execution_count": 7,
   "metadata": {
    "scrolled": false
   },
   "outputs": [
    {
     "data": {
      "text/plain": [
       "allIds    [1, 2, 3, 4, 5, 6, 7, 8, 9, 10, 11, 12, 13, 14...\n",
       "Name: 0, dtype: object"
      ]
     },
     "execution_count": 7,
     "metadata": {},
     "output_type": "execute_result"
    }
   ],
   "source": [
    "# Find all ids of the nodes in the grapf\n",
    "query = \"\"\"\n",
    "MATCH (p:Person)\n",
    "RETURN collect(p.id) as allIds\n",
    "\"\"\"\n",
    "graph.run(query).to_data_frame().iloc[0]"
   ]
  },
  {
   "cell_type": "code",
   "execution_count": 94,
   "metadata": {
    "scrolled": true
   },
   "outputs": [
    {
     "data": {
      "text/html": [
       "<div>\n",
       "<style scoped>\n",
       "    .dataframe tbody tr th:only-of-type {\n",
       "        vertical-align: middle;\n",
       "    }\n",
       "\n",
       "    .dataframe tbody tr th {\n",
       "        vertical-align: top;\n",
       "    }\n",
       "\n",
       "    .dataframe thead th {\n",
       "        text-align: right;\n",
       "    }\n",
       "</style>\n",
       "<table border=\"1\" class=\"dataframe\">\n",
       "  <thead>\n",
       "    <tr style=\"text-align: right;\">\n",
       "      <th></th>\n",
       "      <th>n.id</th>\n",
       "      <th>neighbors</th>\n",
       "      <th>numNeighbors</th>\n",
       "    </tr>\n",
       "  </thead>\n",
       "  <tbody>\n",
       "    <tr>\n",
       "      <th>0</th>\n",
       "      <td>1</td>\n",
       "      <td>[2, 3, 4, 5, 6, 7, 8, 9, 11, 12, 13, 14, 18, 2...</td>\n",
       "      <td>16</td>\n",
       "    </tr>\n",
       "    <tr>\n",
       "      <th>1</th>\n",
       "      <td>2</td>\n",
       "      <td>[1, 3, 4, 8, 14, 18, 20, 22, 31]</td>\n",
       "      <td>9</td>\n",
       "    </tr>\n",
       "    <tr>\n",
       "      <th>2</th>\n",
       "      <td>3</td>\n",
       "      <td>[1, 2, 4, 8, 9, 10, 14, 28, 29, 33]</td>\n",
       "      <td>10</td>\n",
       "    </tr>\n",
       "    <tr>\n",
       "      <th>3</th>\n",
       "      <td>4</td>\n",
       "      <td>[1, 2, 3, 8, 13, 14]</td>\n",
       "      <td>6</td>\n",
       "    </tr>\n",
       "    <tr>\n",
       "      <th>4</th>\n",
       "      <td>5</td>\n",
       "      <td>[1, 7, 11]</td>\n",
       "      <td>3</td>\n",
       "    </tr>\n",
       "    <tr>\n",
       "      <th>5</th>\n",
       "      <td>6</td>\n",
       "      <td>[1, 7, 11, 17]</td>\n",
       "      <td>4</td>\n",
       "    </tr>\n",
       "    <tr>\n",
       "      <th>6</th>\n",
       "      <td>7</td>\n",
       "      <td>[1, 5, 6, 17]</td>\n",
       "      <td>4</td>\n",
       "    </tr>\n",
       "    <tr>\n",
       "      <th>7</th>\n",
       "      <td>8</td>\n",
       "      <td>[1, 2, 3, 4]</td>\n",
       "      <td>4</td>\n",
       "    </tr>\n",
       "    <tr>\n",
       "      <th>8</th>\n",
       "      <td>9</td>\n",
       "      <td>[1, 3, 31, 33, 34]</td>\n",
       "      <td>5</td>\n",
       "    </tr>\n",
       "    <tr>\n",
       "      <th>9</th>\n",
       "      <td>10</td>\n",
       "      <td>[3, 34]</td>\n",
       "      <td>2</td>\n",
       "    </tr>\n",
       "    <tr>\n",
       "      <th>10</th>\n",
       "      <td>11</td>\n",
       "      <td>[1, 5, 6]</td>\n",
       "      <td>3</td>\n",
       "    </tr>\n",
       "    <tr>\n",
       "      <th>11</th>\n",
       "      <td>12</td>\n",
       "      <td>[1]</td>\n",
       "      <td>1</td>\n",
       "    </tr>\n",
       "    <tr>\n",
       "      <th>12</th>\n",
       "      <td>13</td>\n",
       "      <td>[1, 4]</td>\n",
       "      <td>2</td>\n",
       "    </tr>\n",
       "    <tr>\n",
       "      <th>13</th>\n",
       "      <td>14</td>\n",
       "      <td>[1, 2, 3, 4, 34]</td>\n",
       "      <td>5</td>\n",
       "    </tr>\n",
       "    <tr>\n",
       "      <th>14</th>\n",
       "      <td>15</td>\n",
       "      <td>[33, 34]</td>\n",
       "      <td>2</td>\n",
       "    </tr>\n",
       "    <tr>\n",
       "      <th>15</th>\n",
       "      <td>16</td>\n",
       "      <td>[33, 34]</td>\n",
       "      <td>2</td>\n",
       "    </tr>\n",
       "    <tr>\n",
       "      <th>16</th>\n",
       "      <td>17</td>\n",
       "      <td>[6, 7]</td>\n",
       "      <td>2</td>\n",
       "    </tr>\n",
       "    <tr>\n",
       "      <th>17</th>\n",
       "      <td>18</td>\n",
       "      <td>[1, 2]</td>\n",
       "      <td>2</td>\n",
       "    </tr>\n",
       "    <tr>\n",
       "      <th>18</th>\n",
       "      <td>19</td>\n",
       "      <td>[33, 34]</td>\n",
       "      <td>2</td>\n",
       "    </tr>\n",
       "    <tr>\n",
       "      <th>19</th>\n",
       "      <td>20</td>\n",
       "      <td>[1, 2, 34]</td>\n",
       "      <td>3</td>\n",
       "    </tr>\n",
       "    <tr>\n",
       "      <th>20</th>\n",
       "      <td>21</td>\n",
       "      <td>[33, 34]</td>\n",
       "      <td>2</td>\n",
       "    </tr>\n",
       "    <tr>\n",
       "      <th>21</th>\n",
       "      <td>22</td>\n",
       "      <td>[1, 2]</td>\n",
       "      <td>2</td>\n",
       "    </tr>\n",
       "    <tr>\n",
       "      <th>22</th>\n",
       "      <td>23</td>\n",
       "      <td>[33, 34]</td>\n",
       "      <td>2</td>\n",
       "    </tr>\n",
       "    <tr>\n",
       "      <th>23</th>\n",
       "      <td>24</td>\n",
       "      <td>[26, 28, 30, 33, 34]</td>\n",
       "      <td>5</td>\n",
       "    </tr>\n",
       "    <tr>\n",
       "      <th>24</th>\n",
       "      <td>25</td>\n",
       "      <td>[26, 28, 32]</td>\n",
       "      <td>3</td>\n",
       "    </tr>\n",
       "    <tr>\n",
       "      <th>25</th>\n",
       "      <td>26</td>\n",
       "      <td>[24, 25, 32]</td>\n",
       "      <td>3</td>\n",
       "    </tr>\n",
       "    <tr>\n",
       "      <th>26</th>\n",
       "      <td>27</td>\n",
       "      <td>[30, 34]</td>\n",
       "      <td>2</td>\n",
       "    </tr>\n",
       "    <tr>\n",
       "      <th>27</th>\n",
       "      <td>28</td>\n",
       "      <td>[3, 24, 25, 34]</td>\n",
       "      <td>4</td>\n",
       "    </tr>\n",
       "    <tr>\n",
       "      <th>28</th>\n",
       "      <td>29</td>\n",
       "      <td>[3, 32, 34]</td>\n",
       "      <td>3</td>\n",
       "    </tr>\n",
       "    <tr>\n",
       "      <th>29</th>\n",
       "      <td>30</td>\n",
       "      <td>[24, 27, 33, 34]</td>\n",
       "      <td>4</td>\n",
       "    </tr>\n",
       "    <tr>\n",
       "      <th>30</th>\n",
       "      <td>31</td>\n",
       "      <td>[2, 9, 33, 34]</td>\n",
       "      <td>4</td>\n",
       "    </tr>\n",
       "    <tr>\n",
       "      <th>31</th>\n",
       "      <td>32</td>\n",
       "      <td>[1, 25, 26, 29, 33, 34]</td>\n",
       "      <td>6</td>\n",
       "    </tr>\n",
       "    <tr>\n",
       "      <th>32</th>\n",
       "      <td>33</td>\n",
       "      <td>[3, 9, 15, 16, 19, 21, 23, 24, 30, 31, 32, 34]</td>\n",
       "      <td>12</td>\n",
       "    </tr>\n",
       "    <tr>\n",
       "      <th>33</th>\n",
       "      <td>34</td>\n",
       "      <td>[9, 10, 14, 15, 16, 19, 20, 21, 23, 24, 27, 28...</td>\n",
       "      <td>17</td>\n",
       "    </tr>\n",
       "  </tbody>\n",
       "</table>\n",
       "</div>"
      ],
      "text/plain": [
       "    n.id                                          neighbors  numNeighbors\n",
       "0      1  [2, 3, 4, 5, 6, 7, 8, 9, 11, 12, 13, 14, 18, 2...            16\n",
       "1      2                   [1, 3, 4, 8, 14, 18, 20, 22, 31]             9\n",
       "2      3                [1, 2, 4, 8, 9, 10, 14, 28, 29, 33]            10\n",
       "3      4                               [1, 2, 3, 8, 13, 14]             6\n",
       "4      5                                         [1, 7, 11]             3\n",
       "5      6                                     [1, 7, 11, 17]             4\n",
       "6      7                                      [1, 5, 6, 17]             4\n",
       "7      8                                       [1, 2, 3, 4]             4\n",
       "8      9                                 [1, 3, 31, 33, 34]             5\n",
       "9     10                                            [3, 34]             2\n",
       "10    11                                          [1, 5, 6]             3\n",
       "11    12                                                [1]             1\n",
       "12    13                                             [1, 4]             2\n",
       "13    14                                   [1, 2, 3, 4, 34]             5\n",
       "14    15                                           [33, 34]             2\n",
       "15    16                                           [33, 34]             2\n",
       "16    17                                             [6, 7]             2\n",
       "17    18                                             [1, 2]             2\n",
       "18    19                                           [33, 34]             2\n",
       "19    20                                         [1, 2, 34]             3\n",
       "20    21                                           [33, 34]             2\n",
       "21    22                                             [1, 2]             2\n",
       "22    23                                           [33, 34]             2\n",
       "23    24                               [26, 28, 30, 33, 34]             5\n",
       "24    25                                       [26, 28, 32]             3\n",
       "25    26                                       [24, 25, 32]             3\n",
       "26    27                                           [30, 34]             2\n",
       "27    28                                    [3, 24, 25, 34]             4\n",
       "28    29                                        [3, 32, 34]             3\n",
       "29    30                                   [24, 27, 33, 34]             4\n",
       "30    31                                     [2, 9, 33, 34]             4\n",
       "31    32                            [1, 25, 26, 29, 33, 34]             6\n",
       "32    33     [3, 9, 15, 16, 19, 21, 23, 24, 30, 31, 32, 34]            12\n",
       "33    34  [9, 10, 14, 15, 16, 19, 20, 21, 23, 24, 27, 28...            17"
      ]
     },
     "execution_count": 94,
     "metadata": {},
     "output_type": "execute_result"
    }
   ],
   "source": [
    "# Obtain {node, [its neighbors], number of neighbors}\n",
    "query = \"\"\"\n",
    "MATCH (n:Person)-[]-(nn:Person)\n",
    "RETURN n.id, collect(nn.id) as neighbors, count(nn) as numNeighbors\n",
    "ORDER BY n.id ASC\n",
    "\"\"\"\n",
    "graph.run(query).to_data_frame()"
   ]
  },
  {
   "cell_type": "markdown",
   "metadata": {},
   "source": [
    "## Graph Operations and Functions"
   ]
  },
  {
   "cell_type": "markdown",
   "metadata": {},
   "source": [
    "Aux functions: transformation from tensor to string, and viceversa."
   ]
  },
  {
   "cell_type": "code",
   "execution_count": 9,
   "metadata": {},
   "outputs": [],
   "source": [
    "def tensor_to_string(tensor):\n",
    "    word = \"\"\n",
    "    for i in tensor.tolist():\n",
    "        word += str(i) + \",\"\n",
    "    return word[:len(word)-1]\n",
    "\n",
    "def string_to_tensor(string_input):\n",
    "    return torch.tensor(list(map(float, string_input.split(\",\"))))"
   ]
  },
  {
   "cell_type": "code",
   "execution_count": 10,
   "metadata": {},
   "outputs": [],
   "source": [
    "def set_features(graph, features):\n",
    "    for i in range(features.shape[0]):\n",
    "        query = \"\"\"\n",
    "        MATCH (p:Person {id: $id_node}) SET p.features = $features\n",
    "        \"\"\"\n",
    "        graph.run(query, {'id_node': i+1, 'features': tensor_to_string(features[i])})\n"
   ]
  },
  {
   "cell_type": "markdown",
   "metadata": {},
   "source": [
    "Functions to interact with the graph:\n",
    "- get_features(graph, id_node): Obtain features (string) of node id_node\n",
    "- get_features_tensor(graph, id_node): Obtain features (tensor) of node id_node\n",
    "- get_neighbors_features(graph, id_node): Obtain features (string) of node id_node neighbors\n",
    "- get_neighbors_features_tensor(graph, id_node): Obtain features (tensor) of node id_node neighbors\n",
    "- get_all_neighbors_features(graph, id_node): Obtain a dictionary where the keys are nodes' id_node and values are its corresponding neighbors features\n",
    "- update_features(graph, id_node, all_features, all_neighbor_features): This function performs the \"message passing\" phase to obtain the new features of node id_node. This is achieved by adding its own features and its neighbor features.\n",
    "- update_all_features((graph, all_features, all_neighbor_features): This functions udpates all nodes' features using the previous function. "
   ]
  },
  {
   "cell_type": "code",
   "execution_count": 88,
   "metadata": {},
   "outputs": [],
   "source": [
    "def get_features(graph, id_node):\n",
    "    query_own_features = \"\"\"\n",
    "    MATCH (p:Person {id: $id_node}) RETURN p.features as own_features\n",
    "    \"\"\"  \n",
    "    own_features = graph.run(query_own_features, {\"id_node\": id_node}).to_data_frame().iloc[0]['own_features']\n",
    "    return own_features\n",
    "\n",
    "def get_features_tensor(graph, id_node):\n",
    "    return string_to_tensor(get_features(graph, id_node))\n",
    "\n",
    "def get_neighbors_features(graph, id_node):\n",
    "    query_neighbors_features = \"\"\"\n",
    "    MATCH (p:Person {id: $id_node})-[:KNOWS]-(neighbor:Person)\n",
    "    RETURN collect(neighbor.features) as neighbors_features\n",
    "    \"\"\"\n",
    "    neighbor_features = graph.run(query_neighbors_features, {\"id_node\": id_node}).to_data_frame().iloc[0]['neighbors_features']\n",
    "    return neighbor_features\n",
    "\n",
    "def get_neighbors_features_tensor(graph, id_node):\n",
    "    return list(map(string_to_tensor, get_neighbors_features(graph, id_node)))\n",
    "\n",
    "def get_all_neighbor_features(graph): \n",
    "    all_neighbor_features = {}\n",
    "    for i in range(1, numNodes + 1):\n",
    "        neighbor_features = get_neighbors_features_tensor(graph, i)\n",
    "        all_neighbor_features[i] = neighbor_features\n",
    "    return all_neighbor_features\n",
    "\n",
    "def update_features(graph, id_node, all_features, all_neighbor_features):\n",
    "    own_features = all_features[id_node-1]\n",
    "    neighbors_features = all_neighbor_features[id_node]\n",
    "    neighbors_features_sum = torch.stack(neighbors_features, dim=0).sum(dim=0)\n",
    "    new_features = torch.stack([neighbors_features_sum, own_features], dim=0).sum(dim=0)\n",
    "    query_update_features = \"\"\"\n",
    "    MATCH (p:Person {id: $id_node}) SET p.features = $new_features\n",
    "    \"\"\"\n",
    "    graph.run(query_update_features, {'id_node': id_node, 'new_features': tensor_to_string(new_features)})\n",
    "    return new_features\n",
    "    \n",
    "def update_all_features(graph, all_features, all_neighbor_features):\n",
    "    all_features_list = []\n",
    "    for i in range(numNodes):\n",
    "        node_features = update_features(graph, i+1, all_features, all_neighbor_features)\n",
    "        all_features_list.append(node_features)\n",
    "    return torch.stack(all_features_list)"
   ]
  },
  {
   "cell_type": "markdown",
   "metadata": {},
   "source": [
    "## Neural Network Creation"
   ]
  },
  {
   "cell_type": "markdown",
   "metadata": {},
   "source": [
    "Using Pytorch"
   ]
  },
  {
   "cell_type": "code",
   "execution_count": 119,
   "metadata": {},
   "outputs": [],
   "source": [
    "import torch\n",
    "import torch.nn as nn\n",
    "import torch.nn.functional as F"
   ]
  },
  {
   "cell_type": "code",
   "execution_count": 89,
   "metadata": {},
   "outputs": [],
   "source": [
    "class GCNLayer(nn.Module):\n",
    "    def __init__(self, input_size, output_size):\n",
    "        super(GCNLayer, self).__init__()\n",
    "        self.linear = nn.Linear(input_size, output_size)\n",
    "    def forward(self, graph, input_features):\n",
    "        set_features(graph, input_features)\n",
    "        all_neighbor_features = get_all_neighbor_features(graph)\n",
    "        all_features_updated = update_all_features(graph, input_features, all_neighbor_features)\n",
    "        return self.linear(all_features_updated)"
   ]
  },
  {
   "cell_type": "code",
   "execution_count": 90,
   "metadata": {},
   "outputs": [],
   "source": [
    "class GCN(nn.Module):\n",
    "    def __init__(self, input_size, hidden_size, output_size):\n",
    "        super(GCN, self).__init__()\n",
    "        self.gcnlayer1 = GCNLayer(input_size, hidden_size)\n",
    "        self.gcnlayer2 = GCNLayer(hidden_size, output_size)\n",
    "    \n",
    "    def forward(self, graph, input_features):\n",
    "        outputlayer1 = self.gcnlayer1(graph, input_features)\n",
    "        outputlayer1_relu = torch.relu(outputlayer1)\n",
    "        outputlayer2 = self.gcnlayer2(graph, outputlayer1_relu)\n",
    "        return outputlayer2"
   ]
  },
  {
   "cell_type": "markdown",
   "metadata": {},
   "source": [
    "### Data preparation and initialization"
   ]
  },
  {
   "cell_type": "markdown",
   "metadata": {},
   "source": [
    "Setting labels por node 1 and 34 (not necessary)"
   ]
  },
  {
   "cell_type": "code",
   "execution_count": 96,
   "metadata": {},
   "outputs": [
    {
     "data": {
      "text/plain": [
       "<py2neo.database.Cursor at 0x7f2c32e9e450>"
      ]
     },
     "execution_count": 96,
     "metadata": {},
     "output_type": "execute_result"
    }
   ],
   "source": [
    "query_instructor = \"\"\"\n",
    "MATCH (p:Person) WHERE p.id = 1 SET p.label = 0 \n",
    "\"\"\"\n",
    "query_president = \"\"\"\n",
    "MATCH (p:Person) WHERE p.id = 34 SET p.label = 1 \n",
    "\"\"\"\n",
    "graph.run(query_instructor)\n",
    "graph.run(query_president)"
   ]
  },
  {
   "cell_type": "markdown",
   "metadata": {},
   "source": [
    "Semisupervised problem, only two nodes are labeled"
   ]
  },
  {
   "cell_type": "code",
   "execution_count": 85,
   "metadata": {},
   "outputs": [],
   "source": [
    "labels = torch.tensor([0, 1])\n",
    "labeled_nodes = torch.tensor([0, 33])"
   ]
  },
  {
   "cell_type": "markdown",
   "metadata": {},
   "source": [
    "For this classification problem, we assign each node’s an input feature as a one-hot vector"
   ]
  },
  {
   "cell_type": "code",
   "execution_count": 97,
   "metadata": {},
   "outputs": [],
   "source": [
    "inputs = torch.eye(34)"
   ]
  },
  {
   "cell_type": "markdown",
   "metadata": {},
   "source": [
    "### Training"
   ]
  },
  {
   "cell_type": "code",
   "execution_count": 91,
   "metadata": {},
   "outputs": [],
   "source": [
    "my_nn = GCN(34,5,2)"
   ]
  },
  {
   "cell_type": "code",
   "execution_count": 92,
   "metadata": {
    "scrolled": true
   },
   "outputs": [
    {
     "name": "stdout",
     "output_type": "stream",
     "text": [
      "Epoch 0 | Loss: 1.4575\n",
      "Epoch 1 | Loss: 1.2504\n",
      "Epoch 2 | Loss: 0.9918\n",
      "Epoch 3 | Loss: 0.7967\n",
      "Epoch 4 | Loss: 0.6197\n",
      "Epoch 5 | Loss: 0.4722\n",
      "Epoch 6 | Loss: 0.3516\n",
      "Epoch 7 | Loss: 0.2551\n",
      "Epoch 8 | Loss: 0.1839\n",
      "Epoch 9 | Loss: 0.1297\n",
      "Epoch 10 | Loss: 0.0901\n",
      "Epoch 11 | Loss: 0.0619\n",
      "Epoch 12 | Loss: 0.0424\n",
      "Epoch 13 | Loss: 0.0291\n",
      "Epoch 14 | Loss: 0.0202\n",
      "Epoch 15 | Loss: 0.0141\n",
      "Epoch 16 | Loss: 0.0100\n",
      "Epoch 17 | Loss: 0.0072\n",
      "Epoch 18 | Loss: 0.0053\n",
      "Epoch 19 | Loss: 0.0040\n"
     ]
    }
   ],
   "source": [
    "optimizer = torch.optim.Adam(my_nn.parameters(), lr=0.01)\n",
    "all_logits = []\n",
    "num_epochs = 20\n",
    "for epoch in range(num_epochs):\n",
    "    logits = my_nn(graph, inputs)\n",
    "    all_logits.append(logits.detach())\n",
    "    logp = F.log_softmax(logits, 1)\n",
    "    loss = F.nll_loss(logp[labeled_nodes], labels)\n",
    "    optimizer.zero_grad()\n",
    "    loss.backward()\n",
    "    optimizer.step()\n",
    "    print('Epoch %d | Loss: %.4f' % (epoch, loss.item()))"
   ]
  },
  {
   "cell_type": "markdown",
   "metadata": {},
   "source": [
    "View results"
   ]
  },
  {
   "cell_type": "code",
   "execution_count": 100,
   "metadata": {
    "scrolled": true
   },
   "outputs": [
    {
     "data": {
      "text/plain": [
       "tensor([[ 3.0895, -2.4338],\n",
       "        [ 1.8576, -1.4835],\n",
       "        [ 0.2205, -1.1235],\n",
       "        [ 1.7162, -1.3475],\n",
       "        [ 1.2488, -1.0694],\n",
       "        [ 1.5597, -1.2470],\n",
       "        [ 1.5330, -1.2317],\n",
       "        [ 1.3443, -1.1809],\n",
       "        [-2.5461,  0.1329],\n",
       "        [-1.9983,  0.2589],\n",
       "        [ 1.2855, -1.0903],\n",
       "        [ 0.7502, -0.7846],\n",
       "        [ 1.1428, -0.9904],\n",
       "        [-0.2649, -0.6602],\n",
       "        [-2.7042,  0.3531],\n",
       "        [-2.7665,  0.4524],\n",
       "        [ 0.5877, -0.6918],\n",
       "        [ 1.1841, -1.0186],\n",
       "        [-2.7911,  0.4478],\n",
       "        [-0.4521, -0.5496],\n",
       "        [-2.8125,  0.4318],\n",
       "        [ 1.2280, -1.0436],\n",
       "        [-2.6913,  0.4875],\n",
       "        [-3.5494,  0.3833],\n",
       "        [-0.3287, -0.7285],\n",
       "        [-0.4953, -0.5865],\n",
       "        [-2.1963,  0.4251],\n",
       "        [-2.7082,  0.1931],\n",
       "        [-2.0248,  0.0602],\n",
       "        [-3.5252,  0.7154],\n",
       "        [-2.6696,  0.3072],\n",
       "        [-1.7158, -0.4900],\n",
       "        [-4.9799,  0.9063],\n",
       "        [-4.8018,  0.7359]])"
      ]
     },
     "execution_count": 100,
     "metadata": {},
     "output_type": "execute_result"
    }
   ],
   "source": [
    "all_logits[num_epochs-1]"
   ]
  },
  {
   "cell_type": "code",
   "execution_count": 101,
   "metadata": {},
   "outputs": [],
   "source": [
    "pos = {}\n",
    "for i in range(34):\n",
    "    pos[i] = all_logits[num_epochs-1][i].numpy().argmax()"
   ]
  },
  {
   "cell_type": "code",
   "execution_count": 102,
   "metadata": {},
   "outputs": [],
   "source": [
    "classified_nodes = list(pos.values())"
   ]
  },
  {
   "cell_type": "markdown",
   "metadata": {},
   "source": [
    "The classification obtained for each node:"
   ]
  },
  {
   "cell_type": "code",
   "execution_count": 103,
   "metadata": {
    "scrolled": true
   },
   "outputs": [
    {
     "data": {
      "text/plain": [
       "[0,\n",
       " 0,\n",
       " 0,\n",
       " 0,\n",
       " 0,\n",
       " 0,\n",
       " 0,\n",
       " 0,\n",
       " 1,\n",
       " 1,\n",
       " 0,\n",
       " 0,\n",
       " 0,\n",
       " 0,\n",
       " 1,\n",
       " 1,\n",
       " 0,\n",
       " 0,\n",
       " 1,\n",
       " 0,\n",
       " 1,\n",
       " 0,\n",
       " 1,\n",
       " 1,\n",
       " 0,\n",
       " 0,\n",
       " 1,\n",
       " 1,\n",
       " 1,\n",
       " 1,\n",
       " 1,\n",
       " 1,\n",
       " 1,\n",
       " 1]"
      ]
     },
     "execution_count": 103,
     "metadata": {},
     "output_type": "execute_result"
    }
   ],
   "source": [
    "classified_nodes"
   ]
  },
  {
   "cell_type": "markdown",
   "metadata": {},
   "source": [
    "### Visualizing in Neo4J"
   ]
  },
  {
   "cell_type": "markdown",
   "metadata": {},
   "source": [
    "Setting labels as properties for each node"
   ]
  },
  {
   "cell_type": "code",
   "execution_count": 104,
   "metadata": {},
   "outputs": [],
   "source": [
    "for i in range(len(classified_nodes)):\n",
    "    label_node = str(classified_nodes[i])\n",
    "    query = \"\"\"\n",
    "    MATCH (p:Person {id: $id_node}) SET p.label = $label\n",
    "    \"\"\"\n",
    "    graph.run(query, {'id_node': i+1, 'label': label_node})\n"
   ]
  }
 ],
 "metadata": {
  "kernelspec": {
   "display_name": "Python 3",
   "language": "python",
   "name": "python3"
  },
  "language_info": {
   "codemirror_mode": {
    "name": "ipython",
    "version": 3
   },
   "file_extension": ".py",
   "mimetype": "text/x-python",
   "name": "python",
   "nbconvert_exporter": "python",
   "pygments_lexer": "ipython3",
   "version": "3.7.6"
  }
 },
 "nbformat": 4,
 "nbformat_minor": 4
}
