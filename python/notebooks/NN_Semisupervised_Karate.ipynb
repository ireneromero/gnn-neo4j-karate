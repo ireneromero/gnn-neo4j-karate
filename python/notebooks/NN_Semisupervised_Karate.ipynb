{
 "cells": [
  {
   "cell_type": "markdown",
   "metadata": {},
   "source": [
    "# Graph Neural Network Using Neo4J & PyTorch"
   ]
  },
  {
   "cell_type": "markdown",
   "metadata": {},
   "source": [
    "### Environment"
   ]
  },
  {
   "cell_type": "code",
   "execution_count": 146,
   "metadata": {},
   "outputs": [],
   "source": [
    "import pandas as pd\n",
    "\n",
    "import matplotlib \n",
    "import matplotlib.pyplot as plt\n",
    "\n",
    "plt.style.use('fivethirtyeight')\n",
    "pd.set_option('display.float_format', lambda x: '%.3f' % x)\n",
    "\n",
    "import pandas as pd\n",
    "import numpy as np\n",
    "from collections import Counter\n",
    "from sklearn.ensemble import RandomForestClassifier\n",
    "\n",
    "from sklearn.metrics import recall_score\n",
    "from sklearn.metrics import precision_score\n",
    "from sklearn.metrics import accuracy_score\n",
    "\n",
    "import torch\n",
    "import torch.nn as nn\n",
    "import torch.nn.functional as F"
   ]
  },
  {
   "cell_type": "code",
   "execution_count": 2,
   "metadata": {},
   "outputs": [],
   "source": [
    "from py2neo import Graph"
   ]
  },
  {
   "cell_type": "code",
   "execution_count": 15,
   "metadata": {},
   "outputs": [],
   "source": [
    "graph = Graph(\"bolt://54.87.236.196:37389\", auth=(\"neo4j\", \"throttle-retailers-jobs\"))"
   ]
  },
  {
   "cell_type": "markdown",
   "metadata": {},
   "source": [
    "#### EDA"
   ]
  },
  {
   "cell_type": "code",
   "execution_count": 46,
   "metadata": {},
   "outputs": [
    {
     "data": {
      "text/plain": [
       "34"
      ]
     },
     "execution_count": 46,
     "metadata": {},
     "output_type": "execute_result"
    }
   ],
   "source": [
    "query = \"\"\"\n",
    "MATCH (p:Person) RETURN count(*) as numNodes\n",
    "\"\"\"\n",
    "numNodes = graph.run(query).to_data_frame().iloc[0]['numNodes']\n",
    "numNodes"
   ]
  },
  {
   "cell_type": "code",
   "execution_count": 6,
   "metadata": {},
   "outputs": [
    {
     "data": {
      "text/html": [
       "<div>\n",
       "<style scoped>\n",
       "    .dataframe tbody tr th:only-of-type {\n",
       "        vertical-align: middle;\n",
       "    }\n",
       "\n",
       "    .dataframe tbody tr th {\n",
       "        vertical-align: top;\n",
       "    }\n",
       "\n",
       "    .dataframe thead th {\n",
       "        text-align: right;\n",
       "    }\n",
       "</style>\n",
       "<table border=\"1\" class=\"dataframe\">\n",
       "  <thead>\n",
       "    <tr style=\"text-align: right;\">\n",
       "      <th></th>\n",
       "    </tr>\n",
       "  </thead>\n",
       "  <tbody>\n",
       "  </tbody>\n",
       "</table>\n",
       "</div>"
      ],
      "text/plain": [
       "Empty DataFrame\n",
       "Columns: []\n",
       "Index: []"
      ]
     },
     "execution_count": 6,
     "metadata": {},
     "output_type": "execute_result"
    }
   ],
   "source": [
    "# Check if there are self loops in the graph\n",
    "query = \"\"\"\n",
    "MATCH (p:Person)-[]-(p)\n",
    "RETURN p.id\n",
    "\"\"\"\n",
    "graph.run(query).to_data_frame()"
   ]
  },
  {
   "cell_type": "code",
   "execution_count": 10,
   "metadata": {
    "scrolled": true
   },
   "outputs": [
    {
     "data": {
      "text/plain": [
       "[1,\n",
       " 2,\n",
       " 3,\n",
       " 4,\n",
       " 5,\n",
       " 6,\n",
       " 7,\n",
       " 8,\n",
       " 9,\n",
       " 10,\n",
       " 11,\n",
       " 12,\n",
       " 13,\n",
       " 14,\n",
       " 15,\n",
       " 16,\n",
       " 17,\n",
       " 18,\n",
       " 19,\n",
       " 20,\n",
       " 21,\n",
       " 22,\n",
       " 23,\n",
       " 24,\n",
       " 25,\n",
       " 26,\n",
       " 27,\n",
       " 28,\n",
       " 29,\n",
       " 30,\n",
       " 31,\n",
       " 32,\n",
       " 33,\n",
       " 34]"
      ]
     },
     "execution_count": 10,
     "metadata": {},
     "output_type": "execute_result"
    }
   ],
   "source": [
    "# Find all ids of the nodes in the grapf\n",
    "query = \"\"\"\n",
    "MATCH (p:Person)\n",
    "RETURN collect(p.id) as allIds\n",
    "\"\"\"\n",
    "graph.run(query).to_data_frame().iloc[0]['allIds']"
   ]
  },
  {
   "cell_type": "markdown",
   "metadata": {},
   "source": [
    "## Graph Operations and Functions"
   ]
  },
  {
   "cell_type": "markdown",
   "metadata": {},
   "source": [
    "Setting features of all the nodes using a dictionary"
   ]
  },
  {
   "cell_type": "code",
   "execution_count": 216,
   "metadata": {},
   "outputs": [],
   "source": [
    "# aux function \n",
    "def string_to_array(word):\n",
    "    return [float(i) for i in word]\n",
    "\n",
    "def array_to_string(array):\n",
    "    word = \"\"\n",
    "    for i in range(0, array.size):\n",
    "        word += str(array[i])\n",
    "    return word\n",
    "\n",
    "def tensor_to_string(tensor):\n",
    "    word = \"\"\n",
    "    for i in tensor.tolist():\n",
    "        word += str(i) + \",\"\n",
    "    return word[:len(word)-1]\n",
    "\n",
    "def string_to_tensor(string_input):\n",
    "    return torch.tensor(list(map(float, string_input.split(\",\"))))"
   ]
  },
  {
   "cell_type": "code",
   "execution_count": 387,
   "metadata": {},
   "outputs": [],
   "source": [
    "def set_features(graph, features):\n",
    "    for i in range(features.shape[0]):\n",
    "        query = \"\"\"\n",
    "        MATCH (p:Person {id: $id_node}) SET p.features = $features\n",
    "        \"\"\"\n",
    "        graph.run(query, {'id_node': i+1, 'features': tensor_to_string(features[i])})\n"
   ]
  },
  {
   "cell_type": "code",
   "execution_count": 511,
   "metadata": {
    "scrolled": true
   },
   "outputs": [],
   "source": [
    "features = torch.eye(34)\n",
    "set_features(graph, features)"
   ]
  },
  {
   "cell_type": "markdown",
   "metadata": {},
   "source": [
    "Either add self loops in the graph or take this into account when updating features of each node\n",
    "\n",
    "Current approach:\n",
    "- Self-loops present in the graph deleted\n",
    "- When updating features, take into account own features\n",
    "\n",
    "Future approach: \n",
    "- Add self-loops to the graph\n",
    "- When updating features, only use neighbor features"
   ]
  },
  {
   "cell_type": "code",
   "execution_count": 522,
   "metadata": {},
   "outputs": [],
   "source": [
    "def get_features(graph, id_node):\n",
    "    query_own_features = \"\"\"\n",
    "    MATCH (p:Person {id: $id_node}) RETURN p.features as own_features\n",
    "    \"\"\"  \n",
    "    own_features = graph.run(query_own_features, {\"id_node\": id_node}).to_data_frame().iloc[0]['own_features']\n",
    "    return own_features\n",
    "\n",
    "def get_features_tensor(graph, id_node):\n",
    "    return string_to_tensor(get_features(graph, id_node))\n",
    "\n",
    "def get_neighbors_features(graph, id_node):\n",
    "    query_neighbors_features = \"\"\"\n",
    "    MATCH (p:Person {id: $id_node})-[:KNOWS]-(neighbor:Person)\n",
    "    RETURN collect(neighbor.features) as neighbors_features\n",
    "    \"\"\"\n",
    "    neighbor_features = graph.run(query_neighbors_features, {\"id_node\": id_node}).to_data_frame().iloc[0]['neighbors_features']\n",
    "    return neighbor_features\n",
    "\n",
    "def get_neighbors_features_tensor(graph, id_node):\n",
    "    return list(map(string_to_tensor, get_neighbors_features(graph, id_node)))\n",
    "\n",
    "def get_all_features(graph): \n",
    "    all_features = []\n",
    "    all_neighbor_features = {}\n",
    "    for i in range(1, numNodes + 1):\n",
    "        i_features = get_features_tensor(graph, i)\n",
    "        all_features.append(i_features)\n",
    "        neighbor_features = get_neighbors_features_tensor(graph, i)\n",
    "        all_neighbor_features[i] = neighbor_features\n",
    "    return torch.stack(all_features, dim=0), all_neighbor_features\n",
    "\n",
    "def update_features(graph, id_node, all_features, all_neighbor_features):\n",
    "    own_features = all_features[id_node-1]\n",
    "    neighbors_features = all_neighbor_features[id_node]\n",
    "    neighbors_features_sum = torch.stack(neighbors_features, dim=0).sum(dim=0)\n",
    "    new_features = torch.stack([neighbors_features_sum, own_features], dim=0).sum(dim=0)\n",
    "    query_update_features = \"\"\"\n",
    "    MATCH (p:Person {id: $id_node}) SET p.features = $new_features\n",
    "    \"\"\"\n",
    "    graph.run(query_update_features, {'id_node': id_node, 'new_features': tensor_to_string(new_features)})\n",
    "    \n",
    "def update_all_features(graph, all_features, all_neighbor_features):\n",
    "    for i in range(numNodes):\n",
    "        update_features(graph, i+1, all_features, all_neighbor_features)"
   ]
  },
  {
   "cell_type": "code",
   "execution_count": 311,
   "metadata": {},
   "outputs": [
    {
     "data": {
      "text/html": [
       "<div>\n",
       "<style scoped>\n",
       "    .dataframe tbody tr th:only-of-type {\n",
       "        vertical-align: middle;\n",
       "    }\n",
       "\n",
       "    .dataframe tbody tr th {\n",
       "        vertical-align: top;\n",
       "    }\n",
       "\n",
       "    .dataframe thead th {\n",
       "        text-align: right;\n",
       "    }\n",
       "</style>\n",
       "<table border=\"1\" class=\"dataframe\">\n",
       "  <thead>\n",
       "    <tr style=\"text-align: right;\">\n",
       "      <th></th>\n",
       "      <th>own_features</th>\n",
       "    </tr>\n",
       "  </thead>\n",
       "  <tbody>\n",
       "    <tr>\n",
       "      <th>0</th>\n",
       "      <td>None</td>\n",
       "    </tr>\n",
       "  </tbody>\n",
       "</table>\n",
       "</div>"
      ],
      "text/plain": [
       "  own_features\n",
       "0         None"
      ]
     },
     "execution_count": 311,
     "metadata": {},
     "output_type": "execute_result"
    }
   ],
   "source": [
    "query_own_features = \"\"\"\n",
    "    MATCH (p:Person {id: $id_node}) RETURN p.features as own_features\n",
    "    \"\"\"  \n",
    "own_features = graph.run(query_own_features, {\"id_node\": 34}).to_data_frame()\n",
    "own_features"
   ]
  },
  {
   "cell_type": "markdown",
   "metadata": {},
   "source": [
    "## Neural Network Creation"
   ]
  },
  {
   "cell_type": "code",
   "execution_count": 122,
   "metadata": {},
   "outputs": [],
   "source": [
    "import torch\n",
    "import torch.nn as nn\n",
    "import torch.nn.functional as F"
   ]
  },
  {
   "cell_type": "code",
   "execution_count": 518,
   "metadata": {},
   "outputs": [],
   "source": [
    "class GCNLayer(nn.Module):\n",
    "    def __init__(self, input_size, output_size):\n",
    "        super(GCNLayer, self).__init__()\n",
    "        self.linear = nn.Linear(input_size, output_size)\n",
    "    def forward(self, graph, input_features):\n",
    "        set_features(graph, input_features)\n",
    "        all_features, all_neighbor_features = get_all_features(graph)\n",
    "        update_all_features(graph, all_features, all_neighbor_features)\n",
    "        all_features_updated, _ = get_all_features(graph)\n",
    "        # Transform into torch format\n",
    "        return self.linear(all_features_updated)\n"
   ]
  },
  {
   "cell_type": "code",
   "execution_count": 519,
   "metadata": {},
   "outputs": [],
   "source": [
    "class GCN(nn.Module):\n",
    "    def __init__(self, input_size, hidden_size, output_size):\n",
    "        super(GCN, self).__init__()\n",
    "        self.gcnlayer1 = GCNLayer(input_size, hidden_size)\n",
    "        self.gcnlayer2 = GCNLayer(hidden_size, output_size)\n",
    "    \n",
    "    def forward(self, graph, input_features):\n",
    "        outputlayer1 = self.gcnlayer1(graph, input_features)\n",
    "        outputlayer1_relu = F.relu(outputlayer1)\n",
    "        outputlayer2 = self.gcnlayer2(graph, outputlayer1_relu)\n",
    "        return outputlayer2"
   ]
  },
  {
   "cell_type": "markdown",
   "metadata": {},
   "source": [
    "### Training"
   ]
  },
  {
   "cell_type": "markdown",
   "metadata": {},
   "source": [
    "Setting labels por node 1 and 34 (semisupervised problem)"
   ]
  },
  {
   "cell_type": "code",
   "execution_count": 530,
   "metadata": {},
   "outputs": [
    {
     "data": {
      "text/plain": [
       "<py2neo.database.Cursor at 0x7fb6b2659250>"
      ]
     },
     "execution_count": 530,
     "metadata": {},
     "output_type": "execute_result"
    }
   ],
   "source": [
    "query_instructor = \"\"\"\n",
    "MATCH (p:Person) WHERE p.id = 1 SET p.label = 0 \n",
    "\"\"\"\n",
    "query_president = \"\"\"\n",
    "MATCH (p:Person) WHERE p.id = 34 SET p.label = 1 \n",
    "\"\"\"\n",
    "graph.run(query_instructor)\n",
    "graph.run(query_president)"
   ]
  },
  {
   "cell_type": "code",
   "execution_count": 550,
   "metadata": {},
   "outputs": [],
   "source": [
    "all_logits = []\n",
    "num_epochs = 2\n",
    "my_net = GCN(34,5,2)\n",
    "inputs = torch.eye(34)\n",
    "logits1 = my_net(graph, inputs)"
   ]
  },
  {
   "cell_type": "code",
   "execution_count": 610,
   "metadata": {},
   "outputs": [],
   "source": [
    "inputs = torch.eye(34)\n",
    "set_features(graph, input_features)"
   ]
  },
  {
   "cell_type": "code",
   "execution_count": 600,
   "metadata": {},
   "outputs": [],
   "source": [
    "inputs = torch.eye(34)\n",
    "set_features(graph, input_features)\n",
    "all_features, all_neighbor_features = get_all_features(graph)\n",
    "update_all_features(graph, all_features, all_neighbor_features)\n",
    "all_features_updated, _ = get_all_features(graph)"
   ]
  },
  {
   "cell_type": "code",
   "execution_count": 609,
   "metadata": {},
   "outputs": [
    {
     "data": {
      "text/plain": [
       "tensor([17., 10., 11.,  7.,  4.,  5.,  5.,  5.,  6.,  3.,  4.,  2.,  3.,  6.,\n",
       "         3.,  3.,  3.,  3.,  3.,  4.,  3.,  3.,  3.,  6.,  4.,  4.,  3.,  5.,\n",
       "         4.,  5.,  5.,  7., 13., 18.])"
      ]
     },
     "execution_count": 609,
     "metadata": {},
     "output_type": "execute_result"
    }
   ],
   "source": [
    "all_features_updated.sum(dim=1)"
   ]
  },
  {
   "cell_type": "code",
   "execution_count": 559,
   "metadata": {},
   "outputs": [],
   "source": [
    "labels = torch.tensor([0, 1])\n",
    "labeled_nodes = torch.tensor([0, 33])"
   ]
  },
  {
   "cell_type": "code",
   "execution_count": 571,
   "metadata": {},
   "outputs": [],
   "source": [
    "my_nn = GCN(34,5,2)\n",
    "inputs = torch.eye(34)"
   ]
  },
  {
   "cell_type": "code",
   "execution_count": 572,
   "metadata": {},
   "outputs": [],
   "source": [
    "# Optimizer: Adam\n",
    "optimizer = torch.optim.Adam(my_nn.parameters(), lr = 0.01)"
   ]
  },
  {
   "cell_type": "code",
   "execution_count": 573,
   "metadata": {
    "scrolled": false
   },
   "outputs": [
    {
     "name": "stdout",
     "output_type": "stream",
     "text": [
      "Epoch 0 | Loss: -0.6186\n",
      "Epoch 1 | Loss: -0.6291\n",
      "Epoch 2 | Loss: -0.6400\n",
      "Epoch 3 | Loss: -0.6510\n",
      "Epoch 4 | Loss: -0.6623\n",
      "Epoch 5 | Loss: -0.6736\n",
      "Epoch 6 | Loss: -0.6850\n",
      "Epoch 7 | Loss: -0.6963\n",
      "Epoch 8 | Loss: -0.7076\n",
      "Epoch 9 | Loss: -0.7188\n",
      "Epoch 10 | Loss: -0.7297\n",
      "Epoch 11 | Loss: -0.7404\n",
      "Epoch 12 | Loss: -0.7508\n",
      "Epoch 13 | Loss: -0.7608\n",
      "Epoch 14 | Loss: -0.7704\n",
      "Epoch 15 | Loss: -0.7797\n",
      "Epoch 16 | Loss: -0.7885\n",
      "Epoch 17 | Loss: -0.7968\n",
      "Epoch 18 | Loss: -0.8047\n",
      "Epoch 19 | Loss: -0.8122\n"
     ]
    }
   ],
   "source": [
    "all_logits = []\n",
    "num_epochs = 20\n",
    "for epoch in range(num_epochs):\n",
    "    logits = my_nn(graph, inputs)\n",
    "    all_logits.append(logits.detach())\n",
    "    logp = F.softmax(logits, 1)\n",
    "    loss = F.nll_loss(logp[labeled_nodes], labels)\n",
    "    optimizer.zero_grad()\n",
    "    loss.backward()\n",
    "    optimizer.step()\n",
    "    print('Epoch %d | Loss: %.4f' % (epoch, loss.item()))"
   ]
  },
  {
   "cell_type": "code",
   "execution_count": 585,
   "metadata": {
    "scrolled": true
   },
   "outputs": [],
   "source": [
    "logp1 = F.softmax(logits, dim=1)"
   ]
  },
  {
   "cell_type": "code",
   "execution_count": 587,
   "metadata": {},
   "outputs": [
    {
     "data": {
      "text/plain": [
       "tensor([[0.7730, 0.2270],\n",
       "        [0.1486, 0.8514]], grad_fn=<IndexBackward>)"
      ]
     },
     "execution_count": 587,
     "metadata": {},
     "output_type": "execute_result"
    }
   ],
   "source": [
    "logp1[labeled_nodes]"
   ]
  },
  {
   "cell_type": "code",
   "execution_count": 590,
   "metadata": {},
   "outputs": [
    {
     "data": {
      "text/plain": [
       "tensor([0, 1])"
      ]
     },
     "execution_count": 590,
     "metadata": {},
     "output_type": "execute_result"
    }
   ],
   "source": [
    "labels"
   ]
  },
  {
   "cell_type": "code",
   "execution_count": 588,
   "metadata": {},
   "outputs": [
    {
     "data": {
      "text/plain": [
       "tensor(-0.8122, grad_fn=<NllLossBackward>)"
      ]
     },
     "execution_count": 588,
     "metadata": {},
     "output_type": "execute_result"
    }
   ],
   "source": [
    "F.nll_loss(logp1[labeled_nodes], labels)"
   ]
  },
  {
   "cell_type": "code",
   "execution_count": 596,
   "metadata": {},
   "outputs": [
    {
     "data": {
      "text/plain": [
       "tensor([[-2.0304, -0.6356, -1.8768, -2.2739, -2.4874],\n",
       "        [-0.3519, -2.8261, -1.9232, -3.0716, -3.1026],\n",
       "        [-3.3987, -0.9454, -3.4870, -1.9780, -0.8938]],\n",
       "       grad_fn=<LogSoftmaxBackward>)"
      ]
     },
     "execution_count": 596,
     "metadata": {},
     "output_type": "execute_result"
    }
   ],
   "source": [
    "inp = torch.randn(3, 5, requires_grad=True)\n",
    "# each element in target has to have 0 <= value < C\n",
    "target = torch.tensor([1, 0, 4])\n",
    "output = F.nll_loss(F.log_softmax(inp, 1), target)\n",
    "F.log_softmax(inp, 1)"
   ]
  },
  {
   "cell_type": "code",
   "execution_count": 598,
   "metadata": {},
   "outputs": [
    {
     "data": {
      "text/plain": [
       "tensor([[0.7730, 0.2270],\n",
       "        [0.4679, 0.5321],\n",
       "        [0.5379, 0.4621],\n",
       "        [0.6119, 0.3881],\n",
       "        [0.8177, 0.1823],\n",
       "        [0.8443, 0.1557],\n",
       "        [0.8530, 0.1470],\n",
       "        [0.6300, 0.3700],\n",
       "        [0.3395, 0.6605],\n",
       "        [0.4866, 0.5134],\n",
       "        [0.8121, 0.1879],\n",
       "        [0.6582, 0.3418],\n",
       "        [0.6606, 0.3394],\n",
       "        [0.6183, 0.3817],\n",
       "        [0.4536, 0.5464],\n",
       "        [0.5186, 0.4814],\n",
       "        [0.7006, 0.2994],\n",
       "        [0.6531, 0.3469],\n",
       "        [0.4145, 0.5855],\n",
       "        [0.6335, 0.3665],\n",
       "        [0.4374, 0.5626],\n",
       "        [0.6761, 0.3239],\n",
       "        [0.5190, 0.4810],\n",
       "        [0.4872, 0.5128],\n",
       "        [0.5415, 0.4585],\n",
       "        [0.5129, 0.4871],\n",
       "        [0.5151, 0.4849],\n",
       "        [0.4072, 0.5928],\n",
       "        [0.4790, 0.5210],\n",
       "        [0.4369, 0.5631],\n",
       "        [0.2776, 0.7224],\n",
       "        [0.7350, 0.2650],\n",
       "        [0.1232, 0.8768],\n",
       "        [0.1486, 0.8514]], grad_fn=<SoftmaxBackward>)"
      ]
     },
     "execution_count": 598,
     "metadata": {},
     "output_type": "execute_result"
    }
   ],
   "source": [
    "F.softmax(logits,1)"
   ]
  },
  {
   "cell_type": "code",
   "execution_count": null,
   "metadata": {},
   "outputs": [],
   "source": []
  }
 ],
 "metadata": {
  "kernelspec": {
   "display_name": "Python 3",
   "language": "python",
   "name": "python3"
  },
  "language_info": {
   "codemirror_mode": {
    "name": "ipython",
    "version": 3
   },
   "file_extension": ".py",
   "mimetype": "text/x-python",
   "name": "python",
   "nbconvert_exporter": "python",
   "pygments_lexer": "ipython3",
   "version": "3.7.6"
  }
 },
 "nbformat": 4,
 "nbformat_minor": 4
}
